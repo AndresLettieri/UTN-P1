{
 "cells": [
  {
   "cell_type": "markdown",
   "id": "38daa101",
   "metadata": {},
   "source": [
    "1) Escribir un programa que solicite la edad del usuario. Si el usuario es mayor de 18 años, deberá mostrar un mensaje en pantalla que diga “Es mayor de edad”."
   ]
  },
  {
   "cell_type": "code",
   "execution_count": null,
   "id": "faea15b5",
   "metadata": {},
   "outputs": [],
   "source": [
    "edad = int(input(\"¿Cuantos años tenes? \"))\n",
    "#si bien el enunciado indica mayor de 18, la mayoria de edad se podria interpretar como mayor o igual a 18\n",
    "if edad >= 18: \n",
    "    print(\"!Sos mayor de edad!\")"
   ]
  },
  {
   "cell_type": "markdown",
   "id": "16a57987",
   "metadata": {},
   "source": [
    "2) Escribir un programa que solicite su nota al usuario. Si la nota es mayor o igual a 6, deberá mostrar por pantalla un mensaje que diga “Aprobado”; en caso contrario deberá mostrar el mensaje “Desaprobado”."
   ]
  },
  {
   "cell_type": "code",
   "execution_count": null,
   "id": "5028d408",
   "metadata": {},
   "outputs": [],
   "source": [
    "nota = float(input(\"Ingresa tu nota:\"))\n",
    "if nota >= 6:\n",
    "    print(\"Aprobado\")\n",
    "else:\n",
    "    print(\"Desaprobado\")"
   ]
  },
  {
   "cell_type": "markdown",
   "id": "02df05d4",
   "metadata": {},
   "source": [
    "3) Escribir un programa que permita ingresar solo números pares. Si el usuario ingresa un número par, imprimir por en pantalla el mensaje \"Ha ingresado un número par\"; en caso contrario, imprimir por pantalla \"Por favor, ingrese un número par\". \n",
    "Nota: investigar el uso del operador de módulo (%) en Python para evaluar si un número es par o impar."
   ]
  },
  {
   "cell_type": "code",
   "execution_count": null,
   "id": "c421b083",
   "metadata": {},
   "outputs": [],
   "source": [
    "numero = int(input(\"Ingrese un número:\"))\n",
    "if numero % 2 == 0:\n",
    "    print(\"Ha ingresado un número par\")\n",
    "else:\n",
    "    print( \"Por favor, ingrese un número par\")"
   ]
  },
  {
   "cell_type": "markdown",
   "id": "dfd64276",
   "metadata": {},
   "source": [
    "4) Escribir un programa que solicite al usuario su edad e imprima por pantalla a cuál de las siguientes categorías pertenece: ● Niño/a: menor de 12 años. \n",
    "● Adolescente: mayor o igual que 12 años y menor que 18 años. \n",
    "● Adulto/a joven: mayor o igual que 18 años y menor que 30 años. \n",
    "● Adulto/a: mayor o igual que 30 años."
   ]
  },
  {
   "cell_type": "code",
   "execution_count": null,
   "id": "f7311f75",
   "metadata": {},
   "outputs": [],
   "source": [
    "edad = int(input(\"¿Cuantos años tenes? \"))\n",
    "\n",
    "if edad < 12:\n",
    "    print(\"Sos un niño.\")\n",
    "elif edad >= 12 and edad < 18:\n",
    "    print(\"Sos un adolescente.\")\n",
    "elif edad >= 18 and edad < 30:\n",
    "    print(\"Sos un adulto/a joven.\")\n",
    "elif edad >= 30:\n",
    "    print(\"Sos un adulto/a.\")\n"
   ]
  },
  {
   "cell_type": "markdown",
   "id": "d01cb2d2",
   "metadata": {},
   "source": [
    "5) Escribir un programa que permita introducir contraseñas de entre 8 y 14 caracteres (incluyendo 8 y 14). Si el usuario ingresa una contraseña de longitud adecuada, imprimir por en pantalla el mensaje \"Ha ingresado una contraseña correcta\"; en caso contrario, imprimir por pantalla \"Por favor, ingrese una contraseña de entre 8 y 14 caracteres\". Nota: investigue el uso de la función len() en Python para evaluar la cantidad de elementos que tiene un iterable tal como una lista o un string."
   ]
  },
  {
   "cell_type": "code",
   "execution_count": null,
   "id": "6b646524",
   "metadata": {},
   "outputs": [],
   "source": [
    "password = input(\"Ingrese una contraseña que contenga entre 8 y 14 carateres: \")\n",
    "\n",
    "if len(password) >= 8 and len(password) <= 14:\n",
    "    print(\"Ha ingresado una contraseña correcta\")\n",
    "else: \n",
    "    print(\"Por favor, ingrese una contraseña de entre 8 y 14 caracteres\")\n"
   ]
  },
  {
   "cell_type": "markdown",
   "metadata": {},
   "source": [
    "6) Escribir un programa que tome la lista numeros_aleatorios, calcule su moda, su mediana y su media y las compare para determinar si hay sesgo positivo, negativo o no hay sesgo. Imprimir el resultado por pantalla."
   ]
  },
  {
   "cell_type": "code",
   "execution_count": null,
   "id": "91faaf7f",
   "metadata": {},
   "outputs": [],
   "source": [
    "from statistics import mode, median, mean\n",
    "import random \n",
    "numeros_aleatorios = [random.randint(1, 100) for i in range(50)]\n",
    "\n",
    "# Calculate the mode, median, and mean\n",
    "moda = mode(numeros_aleatorios)\n",
    "mediana =median(numeros_aleatorios)\n",
    "media = mean(numeros_aleatorios)\n",
    "\n",
    "if media > mediana:\n",
    "    sesgo = \"positivo\"\n",
    "elif media < mediana:\n",
    "    sesgo = \"negativo\"\n",
    "else:\n",
    "    sesgo = \"no hay sesgo\"\n",
    "\n",
    "print(f\"Moda: {moda}\")\n",
    "print(f\"Mediana: {mediana}\")\n",
    "print(f\"Media: {media}\")\n",
    "print(f\"Sesgo: {sesgo}\")\n",
    "\n"
   ]
  },
  {
   "cell_type": "markdown",
   "id": "a28b7078",
   "metadata": {},
   "source": [
    "7) Escribir un programa que solicite una frase o palabra al usuario. Si el string ingresado termina con vocal, añadir un signo de exclamación al final e imprimir el string resultante por pantalla; en caso contrario, dejar el string tal cual lo ingresó el usuario e imprimirlo por pantalla."
   ]
  },
  {
   "cell_type": "code",
   "execution_count": null,
   "id": "945721e8",
   "metadata": {},
   "outputs": [],
   "source": [
    "frase  = input(\"Ingrese una frase o palabra: \")\n",
    "\n",
    "if frase[-1].upper() == \"A\" or frase[-1].upper() == \"E\" or frase[-1].upper() == \"I\" or frase[-1].upper() == \"O\" or frase[-1].upper() == \"U\":\n",
    "    print(f\"{frase}!\")\n",
    "else:\n",
    "    print(f\"{frase}\")\n"
   ]
  },
  {
   "cell_type": "markdown",
   "id": "4383dd18",
   "metadata": {},
   "source": [
    "8) Escribir un programa que solicite al usuario que ingrese su nombre y el número 1, 2 o 3 dependiendo de la opción que desee:\n",
    "1. Si quiere su nombre en mayúsculas. Por ejemplo: PEDRO.\n",
    "2. Si quiere su nombre en minúsculas. Por ejemplo: pedro.\n",
    "3. Si quiere su nombre con la primera letra mayúscula. Por ejemplo: Pedro.\n",
    "El programa debe transformar el nombre ingresado de acuerdo a la opción seleccionada por el usuario e imprimir el resultado por pantalla. Nota: investigue uso de las funciones upper(), lower() y title() de Python para convertir entre mayúsculas y minúsculas."
   ]
  },
  {
   "cell_type": "code",
   "execution_count": null,
   "id": "7f8a4d60",
   "metadata": {},
   "outputs": [],
   "source": [
    "nombre  = input(\"Ingrese su nombre: \")\n",
    "print(\"Ingrese 1 si quiere su nombre en mayúsculas\")\n",
    "print(\"Ingrese 2 si quiere su nombre en minúsculas\")\n",
    "print(\"Ingrese 3 si quiere su nombre con la primera letra mayúscula\")\n",
    "opcion = int(input(\"Ingrese opción: \"))\n",
    "if opcion == 1:\n",
    "    print(nombre.upper())\n",
    "elif opcion == 2:\n",
    "    print(nombre.lower())\n",
    "elif opcion == 3:\n",
    "    print(nombre.title())\n"
   ]
  },
  {
   "cell_type": "markdown",
   "id": "d03299d0",
   "metadata": {},
   "source": [
    "9) Escribir un programa que pida al usuario la magnitud de un terremoto, clasifique la magnitud en una de las siguientes categorías según la escala de Richter e imprima el resultado por pantalla:\n",
    "● Menor que 3: \"Muy leve\" (imperceptible).\n",
    "● Mayor o igual que 3 y menor que 4: \"Leve\" (ligeramente perceptible).\n",
    "● Mayor o igual que 4 y menor que 5: \"Moderado\" (sentido por personas, pero generalmente no causa daños).\n",
    "● Mayor o igual que 5 y menor que 6: \"Fuerte\" (puede causar daños en estructuras débiles).\n",
    "● Mayor o igual que 6 y menor que 7: \"Muy Fuerte\" (puede causar daños significativos).\n",
    "● Mayor o igual que 7: \"Extremo\" (puede causar graves daños a gran escala)."
   ]
  },
  {
   "cell_type": "code",
   "execution_count": null,
   "id": "d47bd2d8",
   "metadata": {},
   "outputs": [],
   "source": [
    "magnitud = float(input(\"Ingrese la magnitud del terremoto: \"))\n",
    "\n",
    "if magnitud < 3:\n",
    "    print(\"Muy leve (imperceptible)\")\n",
    "elif magnitud >= 3 and magnitud < 4:\n",
    "    print(\"Leve (ligeramente perceptible)\")\n",
    "elif magnitud >= 4 and magnitud < 5:\n",
    "    print(\"Moderado (sentido por personas, pero generalmente no causa daños)\")\n",
    "elif magnitud >= 5 and magnitud < 6:\n",
    "    print(\"Fuerte (puede causar daños en estructuras débiles)\")\n",
    "elif magnitud >= 6 and magnitud < 7:\n",
    "    print(\"Muy Fuerte (puede causar daños significativos)\")\n",
    "else:\n",
    "    print(\"Extremo (puede causar graves daños a gran escala)\")"
   ]
  },
  {
   "cell_type": "markdown",
   "id": "6ce97595",
   "metadata": {},
   "source": [
    "10) Utilizando la información aportada en la siguiente tabla sobre las estaciones del año \n",
    "Periodo del año                             Estación en elhemisferio norte                      Estación en el hemisferio sur\n",
    "Desde el 21 de diciembre hasta el 20 de\n",
    "marzo (incluidos)                                       Invierno                                            Verano\n",
    "Desde el 21 de marzo hasta el 20 de junio\n",
    "(incluidos)                                             Primavera                                           Otoño\n",
    "Desde el 21 de junio hasta el 20 de\n",
    "septiembre (incluidos)                                  Verano                                              Invierno\n",
    "Desde el 21 de septiembre hasta el 20 de\n",
    "diciembre (incluidos)                                   Otoño                                               Primavera\n",
    "\n",
    "Escribir un programa que pregunte al usuario en cuál hemisferio se encuentra (N/S), qué mes del año es y qué día es. El programa deberá utilizar esa información para imprimir por pantalla si el usuario se encuentra en otoño, invierno, primavera o verano. 3"
   ]
  },
  {
   "cell_type": "code",
   "execution_count": null,
   "id": "b5c6676d",
   "metadata": {},
   "outputs": [],
   "source": [
    "hemisferio = input(\"¿En que hemisferio estas? Ingrese N para norte y S para sur: \").strip().upper()\n",
    "mes = int(input(\"Ingrese en que mes del año está: \"))\n",
    "dia = int(input(\"¿Que día del mes es? \"))\n",
    "\n",
    "\n",
    "if (mes == 12 and dia >= 21) or mes <= 2 or (mes == 3 and dia <= 20):\n",
    "    if hemisferio == \"S\":\n",
    "        estacion = \"Verano\"  \n",
    "    else: \n",
    "        estacion = \"Invierno\"\n",
    "elif (mes == 3 and dia >= 21) or mes <= 5  or (mes == 6 and dia <= 20):\n",
    "    if hemisferio == \"S\":\n",
    "        estacion = \"Otoño\"  \n",
    "    else: \n",
    "        estacion = \"Primavera\"\n",
    "elif (mes == 6 and dia >= 21) or mes <= 8 or (mes == 9 and dia <= 20):\n",
    "    if hemisferio == \"S\":\n",
    "        estacion = \"Invierno\"  \n",
    "    else: \n",
    "        estacion = \"Verano\"\n",
    "elif (mes == 9 and dia >= 21) or mes <= 11 or (mes == 12 and dia <= 20):\n",
    "    if hemisferio == \"S\":\n",
    "        estacion = \"Primavera\"  \n",
    "    else: \n",
    "        estacion = \"Otoño\"\n",
    "\n",
    "print(f\"Te encuentras en la estación: {estacion}.\")"
   ]
  }
 ],
 "metadata": {
  "kernelspec": {
   "display_name": "Python 3",
   "language": "python",
   "name": "python3"
  },
  "language_info": {
   "codemirror_mode": {
    "name": "ipython",
    "version": 3
   },
   "file_extension": ".py",
   "mimetype": "text/x-python",
   "name": "python",
   "nbconvert_exporter": "python",
   "pygments_lexer": "ipython3",
   "version": "3.11.9"
  }
 },
 "nbformat": 4,
 "nbformat_minor": 5
}

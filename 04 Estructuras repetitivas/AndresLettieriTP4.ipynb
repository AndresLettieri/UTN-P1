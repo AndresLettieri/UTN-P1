{
 "cells": [
  {
   "cell_type": "markdown",
   "metadata": {},
   "source": [
    "1) Crea un programa que imprima en pantalla todos los números enteros desde 0 hasta 100\n",
    "(incluyendo ambos extremos), en orden creciente, mostrando un número por línea."
   ]
  },
  {
   "cell_type": "code",
   "execution_count": null,
   "metadata": {},
   "outputs": [],
   "source": [
    "for i in range(101):\n",
    "    print(i)"
   ]
  },
  {
   "cell_type": "markdown",
   "metadata": {},
   "source": [
    "2) Desarrolla un programa que solicite al usuario un número entero y determine la cantidad de\n",
    "dígitos que contiene."
   ]
  },
  {
   "cell_type": "code",
   "execution_count": null,
   "metadata": {},
   "outputs": [],
   "source": [
    "numero = int(input(\"Ingresá un número entero: \"))\n",
    "digitos = len(str(numero))\n",
    "print(f\"El número tiene {digitos} dígitos\")"
   ]
  },
  {
   "cell_type": "markdown",
   "metadata": {},
   "source": [
    "3) Escribe un programa que sume todos los números enteros comprendidos entre dos valores\n",
    "dados por el usuario, excluyendo esos dos valores."
   ]
  },
  {
   "cell_type": "code",
   "execution_count": null,
   "metadata": {},
   "outputs": [],
   "source": [
    "primero = int(input(\"Ingresá el primer número: \"))\n",
    "segundo = int(input(\"Ingresá el segundo número: \"))\n",
    "\n",
    "while primero >= segundo:\n",
    "    print(\"El primer número debe ser menor que el segundo.\")\n",
    "    primero = int(input(\"Ingresá el primer número: \"))\n",
    "    segundo = int(input(\"Ingresá el segundo número: \"))\n",
    "\n",
    "suma = 0\n",
    "\n",
    "for i in range(primero + 1, segundo):\n",
    "    suma += i\n",
    "\n",
    "print(f\"La suma es: {suma}\")\n"
   ]
  },
  {
   "cell_type": "markdown",
   "metadata": {},
   "source": [
    "4) Elabora un programa que permita al usuario ingresar números enteros y los sume en\n",
    "secuencia. El programa debe detenerse y mostrar el total acumulado cuando el usuario ingrese\n",
    "un 0."
   ]
  },
  {
   "cell_type": "code",
   "execution_count": null,
   "metadata": {},
   "outputs": [],
   "source": [
    "numero = int(input(\"Ingresá un número a sumar. Para terminar ingresá 0: \"))\n",
    "total = 0\n",
    "\n",
    "while numero > 0:\n",
    "    total += numero\n",
    "    numero = int(input(\"Ingresá otro número a sumar. Para terminar ingresá 0: \"))\n",
    "\n",
    "print(f\"La suma total es: {total}\")\n"
   ]
  },
  {
   "cell_type": "markdown",
   "metadata": {},
   "source": [
    "5) Crea un juego en el que el usuario deba adivinar un número aleatorio entre 0 y 9. Al final, el\n",
    "programa debe mostrar cuántos intentos fueron necesarios para acertar el número."
   ]
  },
  {
   "cell_type": "code",
   "execution_count": null,
   "metadata": {},
   "outputs": [],
   "source": [
    "import random\n",
    "\n",
    "adivinar = random.randint(0, 9)\n",
    "numero = int(input(\"Adivina el número entre 0 y 9: \"))\n",
    "intento = 1\n",
    "\n",
    "while adivinar != numero:\n",
    "    numero = int(input(\"Error! probá de nuevo: \"))\n",
    "    intento += 1\n",
    "\n",
    "print(f\"Adivinaste en {intento} intentos.\")"
   ]
  },
  {
   "cell_type": "markdown",
   "metadata": {},
   "source": [
    "6) Desarrolla un programa que imprima en pantalla todos los números pares comprendidos\n",
    "entre 0 y 100, en orden decreciente."
   ]
  },
  {
   "cell_type": "code",
   "execution_count": null,
   "metadata": {},
   "outputs": [],
   "source": [
    "for i in range(100, -1, -1):\n",
    "    if i % 2 == 0:\n",
    "        print(i)"
   ]
  },
  {
   "cell_type": "markdown",
   "metadata": {},
   "source": [
    "7) Crea un programa que calcule la suma de todos los números comprendidos entre 0 y un\n",
    "número entero positivo indicado por el usuario."
   ]
  },
  {
   "cell_type": "code",
   "execution_count": null,
   "metadata": {},
   "outputs": [],
   "source": [
    "fin = int(input(\"Ingresá un número entero positivo: \"))\n",
    "suma = 0\n",
    "for i in range(1, fin):\n",
    "    suma += i\n",
    "print(f\"La suma de los números entre 0 y {fin} es: {suma}\")\n"
   ]
  },
  {
   "cell_type": "markdown",
   "metadata": {},
   "source": [
    "8) Escribe un programa que permita al usuario ingresar 100 números enteros. Luego, el programa debe indicar cuántos de estos números son pares, cuántos son impares, cuántos son negativos y cuántos son positivos. (Nota: para probar el programa puedes usar una cantidad menor, pero debe estar preparado para procesar 100 números con un solo cambio)."
   ]
  },
  {
   "cell_type": "code",
   "execution_count": null,
   "metadata": {},
   "outputs": [],
   "source": [
    "cantidad = 100\n",
    "pares = impares = positivos = negativos = 0\n",
    "\n",
    "for i in range(cantidad):\n",
    "    num = int(input(\"Ingresá un número: \"))\n",
    "    if num % 2 == 0:\n",
    "        pares += 1\n",
    "    else:\n",
    "        impares += 1\n",
    "    if num > 0:\n",
    "        positivos += 1\n",
    "    elif num < 0:\n",
    "        negativos += 1\n",
    "\n",
    "print(f\"Pares: {pares}, Impares: {impares}, Positivos: {positivos}, Negativos: {negativos}\")"
   ]
  },
  {
   "cell_type": "markdown",
   "metadata": {},
   "source": [
    "9) Elabora un programa que permita al usuario ingresar 100 números enteros y luego calcule la\n",
    "media de esos valores. (Nota: puedes probar el programa con una cantidad menor, pero debe\n",
    "poder procesar 100 números cambiando solo un valor)."
   ]
  },
  {
   "cell_type": "code",
   "execution_count": null,
   "metadata": {},
   "outputs": [],
   "source": [
    "cantidad = 100\n",
    "suma = 0\n",
    "\n",
    "for i in range(cantidad):\n",
    "    num = int(input(\"Ingresá un número: \"))\n",
    "    suma += num\n",
    "\n",
    "media = suma / cantidad\n",
    "print(f\"La media de los números ingresados es: {media}\")"
   ]
  },
  {
   "cell_type": "markdown",
   "metadata": {},
   "source": [
    "10) Escribe un programa que invierta el orden de los dígitos de un número ingresado por el\n",
    "usuario. Ejemplo: si el usuario ingresa 547, el programa debe mostrar 745."
   ]
  },
  {
   "cell_type": "code",
   "execution_count": null,
   "metadata": {},
   "outputs": [],
   "source": [
    "numero = int(input(\"Ingresá un número: \"))\n",
    "invertido = 0\n",
    "\n",
    "while numero > 0:\n",
    "    digito = numero % 10\n",
    "    invertido = invertido * 10 + digito\n",
    "    numero //= 10\n",
    "\n",
    "print(f\"El número invertido es: {invertido}\")"
   ]
  }
 ],
 "metadata": {
  "kernelspec": {
   "display_name": "Python 3",
   "language": "python",
   "name": "python3"
  },
  "language_info": {
   "codemirror_mode": {
    "name": "ipython",
    "version": 3
   },
   "file_extension": ".py",
   "mimetype": "text/x-python",
   "name": "python",
   "nbconvert_exporter": "python",
   "pygments_lexer": "ipython3",
   "version": "3.11.9"
  }
 },
 "nbformat": 4,
 "nbformat_minor": 2
}

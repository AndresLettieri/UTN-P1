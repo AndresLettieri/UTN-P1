{
 "cells": [
  {
   "cell_type": "markdown",
   "id": "c196f718",
   "metadata": {},
   "source": [
    "1. Crear una función llamada imprimir_hola_mundo que imprima por\n",
    "pantalla el mensaje: “Hola Mundo!”. Llamar a esta función desde el\n",
    "programa principal."
   ]
  },
  {
   "cell_type": "code",
   "execution_count": null,
   "id": "ba8afb16",
   "metadata": {},
   "outputs": [],
   "source": [
    "def imprimir_hola_mundo():\n",
    "    print(\"Hola Mundo!\")\n",
    "\n",
    "def main():    \n",
    "    imprimir_hola_mundo()\n",
    "\n",
    "main()\n"
   ]
  },
  {
   "cell_type": "markdown",
   "id": "ab2fd766",
   "metadata": {},
   "source": [
    "2. Crear una función llamada saludar_usuario(nombre) que reciba\n",
    "como parámetro un nombre y devuelva un saludo personalizado.\n",
    "Por ejemplo, si se llama con saludar_usuario(\"Marcos\"), deberá devolver:\n",
    "“Hola Marcos!”. Llamar a esta función desde el programa\n",
    "principal solicitando el nombre al usuario."
   ]
  },
  {
   "cell_type": "code",
   "execution_count": null,
   "id": "bc36f2c5",
   "metadata": {},
   "outputs": [],
   "source": [
    "def saludar_usuario(nombre):\n",
    "    print(f\"Hola, {nombre}!\")\n",
    "\n",
    "def main():\n",
    "    nombre = input(\"Como te llamas? \")\n",
    "    saludar_usuario(nombre)   \n",
    "\n",
    "main()"
   ]
  },
  {
   "cell_type": "markdown",
   "id": "44ea0659",
   "metadata": {},
   "source": [
    "3. Crear una función llamada informacion_personal(nombre, apellido,\n",
    "edad, residencia) que reciba cuatro parámetros e imprima: “Soy\n",
    "[nombre] [apellido], tengo [edad] años y vivo en [residencia]”. Pedir\n",
    "los datos al usuario y llamar a esta función con los valores ingresados."
   ]
  },
  {
   "cell_type": "code",
   "execution_count": null,
   "id": "c493bb99",
   "metadata": {},
   "outputs": [],
   "source": [
    "def informacion_personal(nombre, apellido, edad,residencia):\n",
    "    print(f\"Soy {nombre} {apellido}, tengo {edad} años y vivo en {residencia}\")\n",
    "\n",
    "def main():\n",
    "    nombre = input(\"Como es tu nombre? \")\n",
    "    apellido = input(\"Como es tu apellido? \")\n",
    "    edad = int(input(\"Cuantos años tenes? \"))\n",
    "    residencia = input(\"Donde vivis? \")\n",
    "    informacion_personal(nombre, apellido, edad, residencia)\n",
    "\n",
    "main()"
   ]
  },
  {
   "cell_type": "markdown",
   "id": "3d2beaee",
   "metadata": {},
   "source": [
    "4. Crear dos funciones: calcular_area_circulo(radio) que reciba el radio\n",
    "como parámetro y devuelva el área del círculo. calcular_perimetro_\n",
    "circulo(radio) que reciba el radio como parámetro y devuelva\n",
    "el perímetro del círculo. Solicitar el radio al usuario y llamar ambas\n",
    "funciones para mostrar los resultados."
   ]
  },
  {
   "cell_type": "code",
   "execution_count": null,
   "id": "20a7e2f9",
   "metadata": {},
   "outputs": [],
   "source": [
    "def calcular_area_circulo(radio):\n",
    "    area = 3.14 * (radio ** 2)\n",
    "    return area\n",
    "\n",
    "def calcular_perimetro_circulo(radio):\n",
    "    perimetro = 2 * 3.14 * radio\n",
    "    return perimetro\n",
    "\n",
    "def main():\n",
    "    radio = float(input(\"Ingresar el radio del círculo a calcular: \"))\n",
    "    area = calcular_area_circulo(radio)\n",
    "    perimetro = calcular_perimetro_circulo(radio)\n",
    "    print(f\"El área del círculo es: {area}\")\n",
    "    print(f\"El perímetro del círculo es: {perimetro}\")\n",
    "\n",
    "main()"
   ]
  },
  {
   "cell_type": "markdown",
   "id": "6ae2bbd2",
   "metadata": {},
   "source": [
    "5. Crear una función llamada segundos_a_horas(segundos) que reciba\n",
    "una cantidad de segundos como parámetro y devuelva la cantidad\n",
    "de horas correspondientes. Solicitar al usuario los segundos y mostrar\n",
    "el resultado usando esta función."
   ]
  },
  {
   "cell_type": "code",
   "execution_count": null,
   "id": "5968bf78",
   "metadata": {},
   "outputs": [],
   "source": [
    "def segundos_a_horas(segundos):\n",
    "    return segundos / 3600\n",
    "\n",
    "def main():\n",
    "    segundos = int(input(\"Ingrese la cantidad de segundos a transfomar en horas: \"))\n",
    "    horas = segundos_a_horas(segundos)\n",
    "    print(f\"{segundos} segundos son {horas} horas\")\n",
    "\n",
    "main()"
   ]
  },
  {
   "cell_type": "markdown",
   "id": "b39a9412",
   "metadata": {},
   "source": [
    "6. Crear una función llamada tabla_multiplicar(numero) que reciba un\n",
    "número como parámetro y imprima la tabla de multiplicar de ese\n",
    "número del 1 al 10. Pedir al usuario el número y llamar a la función."
   ]
  },
  {
   "cell_type": "code",
   "execution_count": null,
   "id": "e7933ad1",
   "metadata": {},
   "outputs": [],
   "source": [
    "def tabla_multiplicar(numero):\n",
    "    print(f\"Tabla de multiplicar del {numero}:\")\n",
    "    for i in range(1, 11):\n",
    "        print(f\"{numero} x {i} = {numero * i}\")\n",
    "\n",
    "def main():\n",
    "    numero = int(input(\"Ingrese un número: \"))\n",
    "    tabla_multiplicar(numero)\n",
    "\n",
    "main()"
   ]
  },
  {
   "cell_type": "markdown",
   "id": "a1a269f1",
   "metadata": {},
   "source": [
    "7. Crear una función llamada operaciones_basicas(a, b) que reciba\n",
    "dos números como parámetros y devuelva una tupla con el resultado\n",
    "de sumarlos, restarlos, multiplicarlos y dividirlos. Mostrar los resultados\n",
    "de forma clara."
   ]
  },
  {
   "cell_type": "code",
   "execution_count": null,
   "id": "75ff64e5",
   "metadata": {},
   "outputs": [],
   "source": [
    "def operaciones_basicas(a, b):\n",
    "    suma = a + b\n",
    "    resta = a - b\n",
    "    multiplicacion = a * b\n",
    "    if b != 0:\n",
    "        division = a / b\n",
    "    else: \n",
    "        division = \"Error: División por cero\"\n",
    "    \n",
    "    return suma, resta, multiplicacion, division\n",
    "\n",
    "def main():\n",
    "    a = float(input(\"Ingresa el primer número: \"))\n",
    "    b = float(input(\"Ingresa el segundo número: \"))\n",
    "    \n",
    "    suma, resta, multiplicacion, division = operaciones_basicas(a, b)\n",
    "    \n",
    "    print(f\"Suma: {suma}\")\n",
    "    print(f\"Resta: {resta}\")\n",
    "    print(f\"Multiplicación: {multiplicacion}\")\n",
    "    print(f\"División: {division}\")\n",
    "\n",
    "main()\n",
    "    "
   ]
  },
  {
   "cell_type": "markdown",
   "id": "1131720d",
   "metadata": {},
   "source": [
    "8. Crear una función llamada calcular_imc(peso, altura) que reciba el\n",
    "peso en kilogramos y la altura en metros, y devuelva el índice de\n",
    "masa corporal (IMC). Solicitar al usuario los datos y llamar a la función\n",
    "para mostrar el resultado con dos decimales."
   ]
  },
  {
   "cell_type": "code",
   "execution_count": null,
   "id": "9930c7ae",
   "metadata": {},
   "outputs": [],
   "source": [
    "def calcular_imc(peso, altura):\n",
    "    imc = peso / (altura ** 2)\n",
    "    return imc\n",
    "\n",
    "def main():\n",
    "    peso = float(input(\"Ingresa tu peso en kg: \"))\n",
    "    altura = float(input(\"Ingresa tu altura en metros: \"))\n",
    "    \n",
    "    imc = calcular_imc(peso, altura)\n",
    "    \n",
    "    print(f\"Su IMC es: {imc:.2f}\")\n",
    "\n",
    "main()"
   ]
  },
  {
   "cell_type": "markdown",
   "id": "47bca3a3",
   "metadata": {},
   "source": [
    "9. Crear una función llamada celsius_a_fahrenheit(celsius) que reciba\n",
    "una temperatura en grados Celsius y devuelva su equivalente en\n",
    "Fahrenheit. Pedir al usuario la temperatura en Celsius y mostrar el\n",
    "resultado usando la función."
   ]
  },
  {
   "cell_type": "code",
   "execution_count": null,
   "id": "d5d0703f",
   "metadata": {},
   "outputs": [],
   "source": [
    "def celsius_a_fahrenheit(celsius):\n",
    "    return (celsius * 9 / 5) + 32\n",
    "\n",
    "def main():\n",
    "    celsius = float(input(\"Ingresa la temperatura en celsius a transformar: \"))\n",
    "    fahrenheit = celsius_a_fahrenheit(celsius)\n",
    "    print(f\"{celsius} celsius son {fahrenheit} fahrenheit\")\n",
    "\n",
    "main()"
   ]
  },
  {
   "cell_type": "markdown",
   "id": "de7164f6",
   "metadata": {},
   "source": [
    "10.Crear una función llamada calcular_promedio(a, b, c) que reciba\n",
    "tres números como parámetros y devuelva el promedio de ellos.\n",
    "Solicitar los números al usuario y mostrar el resultado usando esta\n",
    "función."
   ]
  },
  {
   "cell_type": "code",
   "execution_count": null,
   "id": "2b2ab258",
   "metadata": {},
   "outputs": [],
   "source": [
    "def calcular_promedio(a, b, c):\n",
    "    return (a + b + c) / 3\n",
    "\n",
    "def main():\n",
    "    a = float(input(\"Ingresa el primer número: \"))\n",
    "    b = float(input(\"Ingresa el segundo número: \"))\n",
    "    c = float(input(\"Ingresa el tercer número: \"))\n",
    "    \n",
    "    promedio = calcular_promedio(a, b, c)\n",
    "    \n",
    "    print(f\"El promedio es: {promedio}\")"
   ]
  }
 ],
 "metadata": {
  "kernelspec": {
   "display_name": "Python 3",
   "language": "python",
   "name": "python3"
  },
  "language_info": {
   "codemirror_mode": {
    "name": "ipython",
    "version": 3
   },
   "file_extension": ".py",
   "mimetype": "text/x-python",
   "name": "python",
   "nbconvert_exporter": "python",
   "pygments_lexer": "ipython3",
   "version": "3.11.9"
  }
 },
 "nbformat": 4,
 "nbformat_minor": 5
}

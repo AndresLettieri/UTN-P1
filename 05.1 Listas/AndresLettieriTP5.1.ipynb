{
 "cells": [
  {
   "cell_type": "markdown",
   "id": "d782b533",
   "metadata": {},
   "source": [
    "1) Crear una lista con los números del 1 al 100 que sean múltiplos de 4. Utilizar la función range."
   ]
  },
  {
   "cell_type": "code",
   "execution_count": null,
   "id": "10135146",
   "metadata": {},
   "outputs": [],
   "source": [
    "mi_lista = list(range(4, 101, 4))\n",
    "print(mi_lista)"
   ]
  },
  {
   "cell_type": "markdown",
   "id": "a4620cdb",
   "metadata": {},
   "source": [
    "2) Crear una lista con cinco elementos (colocar los elementos que más te gusten) y mostrar el penúltimo. ¡Puedes hacerlo como se muestra en los videos o bien investigar cómo funciona el indexing con números negativos!"
   ]
  },
  {
   "cell_type": "code",
   "execution_count": null,
   "id": "fa403fb4",
   "metadata": {},
   "outputs": [],
   "source": [
    "mi_lista = [\"Acosta\",\"Romeo\",\"Torrico\",\"Romagnoli\",\"Silas\"]\n",
    "print(mi_lista[-2])"
   ]
  },
  {
   "cell_type": "markdown",
   "id": "8f00202f",
   "metadata": {},
   "source": [
    "3) Crear una lista vacía, agregar tres palabras con append e imprimir la lista resultante por pantalla. Pista: para crear una lista vacía debes colocar los corchetes sin nada en su interior. Por ejemplo: lista_vacia = []"
   ]
  },
  {
   "cell_type": "code",
   "execution_count": null,
   "id": "c2b8fc8b",
   "metadata": {},
   "outputs": [],
   "source": [
    "lista_vacia = []\n",
    "lista_vacia.append(\"Acosta\")\n",
    "lista_vacia.append(\"Romeo\")\n",
    "lista_vacia.append(\"Torrico\")\n",
    "print(lista_vacia)"
   ]
  },
  {
   "cell_type": "markdown",
   "id": "6884b29f",
   "metadata": {},
   "source": [
    "4) Reemplazar el segundo y último valor de la lista “animales” con las palabras “loro” y “oso”, respectivamente. Imprimir la lista resultante por pantalla. ¡Puedes hacerlo como se muestra en los videos o bien investigar cómo funciona el indexing con números negativos! animales = [\"perro\", \"gato\", \"conejo\", \"pez\"]"
   ]
  },
  {
   "cell_type": "code",
   "execution_count": null,
   "id": "09fce84d",
   "metadata": {},
   "outputs": [],
   "source": [
    "animales = [\"perro\", \"gato\", \"conejo\", \"pez\"]\n",
    "animales[1] = \"loro\"\n",
    "animales[-1]= \"oso\"\n",
    "print(animales)"
   ]
  },
  {
   "cell_type": "markdown",
   "id": "f337f406",
   "metadata": {},
   "source": [
    "5) Analizar el siguiente programa y explicar con tus palabras qué es lo que realiza. \n",
    "numeros = [8, 15, 3, 22, 7]\n",
    "numeros.remove(max(numeros))\n",
    "print(numeros)\n",
    "\n",
    "Se elimina de la lista el valor numerico maximo. En este caso, el 22.\n"
   ]
  },
  {
   "cell_type": "markdown",
   "id": "0509e759",
   "metadata": {},
   "source": [
    "6) Crear una lista con números del 10 al 30 (incluído), haciendo saltos de 5 en 5 y mostrar por pantalla los dos primeros."
   ]
  },
  {
   "cell_type": "code",
   "execution_count": null,
   "id": "674275f8",
   "metadata": {},
   "outputs": [],
   "source": [
    "mi_lista = list(range(10, 31, 5))\n",
    "print(mi_lista[0:2])"
   ]
  },
  {
   "cell_type": "markdown",
   "id": "ca5c7d31",
   "metadata": {},
   "source": [
    "7) Reemplazar los dos valores centrales (índices 1 y 2) de la lista “autos” por dos nuevos valores cualesquiera."
   ]
  },
  {
   "cell_type": "code",
   "execution_count": null,
   "id": "4d663cdd",
   "metadata": {},
   "outputs": [],
   "source": [
    "autos = [\"sedan\", \"polo\", \"suran\", \"gol\"]\n",
    "autos[1:3] = [\"punto\", \"307\"]\n",
    "print(autos)"
   ]
  },
  {
   "cell_type": "markdown",
   "id": "aa67a6f0",
   "metadata": {},
   "source": [
    "8) Crear una lista vacía llamada \"dobles\" y agregar el doble de 5, 10 y 15 usando append directamente. Imprimir la lista resultante por pantalla."
   ]
  },
  {
   "cell_type": "code",
   "execution_count": null,
   "id": "9313f943",
   "metadata": {},
   "outputs": [
    {
     "name": "stdout",
     "output_type": "stream",
     "text": [
      "[10, 20, 30]\n"
     ]
    }
   ],
   "source": [
    "dobles = []\n",
    "for i in range(5, 16,5):\n",
    "    dobles.append(i * 2)\n",
    "\n",
    "print (dobles)"
   ]
  },
  {
   "cell_type": "markdown",
   "id": "e3294db4",
   "metadata": {},
   "source": [
    "9) Dada la lista “compras”, cuyos elementos representan los productos comprados por diferentes clientes:\n",
    "compras = [[\"pan\", \"leche\"], [\"arroz\", \"fideos\", \"salsa\"], [\"agua\"]]\n",
    "a) Agregar \"jugo\" a la lista del tercer cliente usando append.\n",
    "b) Reemplazar \"fideos\" por \"tallarines\" en la lista del segundo cliente.\n",
    "c) Eliminar \"pan\" de la lista del primer cliente.\n",
    "d) Imprimir la lista resultante por pantalla"
   ]
  },
  {
   "cell_type": "code",
   "execution_count": null,
   "id": "967467c1",
   "metadata": {},
   "outputs": [],
   "source": [
    "compras = [[\"pan\", \"leche\"], [\"arroz\", \"fideos\", \"salsa\"], [\"agua\"]]\n",
    "compras[2].append(\"jugo\")\n",
    "compras[1][1] = \"manteca\"\n",
    "compras[0].remove(\"pan\")\n",
    "print(compras)"
   ]
  },
  {
   "cell_type": "markdown",
   "id": "02e9b86f",
   "metadata": {},
   "source": [
    "10) Elaborar una lista anidada llamada “lista_anidada” que contenga los siguientes elementos:\n",
    "● Posición lista_anidada[0]: 15\n",
    "● Posición lista_anidada[1]: True\n",
    "● Posición lista_anidada[2][0]: 25.5\n",
    "● Posición lista_anidada[2][1]: 57.9\n",
    "● Posición lista_anidada[2][2]: 30.6\n",
    "● Posición lista_anidada[3]: False\n",
    "Imprimir la lista resultante por pantalla."
   ]
  },
  {
   "cell_type": "code",
   "execution_count": null,
   "id": "e8288247",
   "metadata": {},
   "outputs": [],
   "source": [
    "lista_anidada = []\n",
    "lista_anidada.append(15)\n",
    "lista_anidada.append(True)\n",
    "lista_anidada.append([25.5,57.9,30.6])\n",
    "lista_anidada.append(False)\n",
    "print(lista_anidada)"
   ]
  }
 ],
 "metadata": {
  "kernelspec": {
   "display_name": "Python 3",
   "language": "python",
   "name": "python3"
  },
  "language_info": {
   "codemirror_mode": {
    "name": "ipython",
    "version": 3
   },
   "file_extension": ".py",
   "mimetype": "text/x-python",
   "name": "python",
   "nbconvert_exporter": "python",
   "pygments_lexer": "ipython3",
   "version": "3.11.9"
  }
 },
 "nbformat": 4,
 "nbformat_minor": 5
}

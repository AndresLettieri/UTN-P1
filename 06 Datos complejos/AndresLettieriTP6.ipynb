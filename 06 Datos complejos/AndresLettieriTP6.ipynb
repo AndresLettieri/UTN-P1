{
 "cells": [
  {
   "cell_type": "markdown",
   "id": "3876261e",
   "metadata": {},
   "source": [
    "1) Dado el diccionario precios_frutas precios_frutas = {'Banana': 1200, 'Ananá': 2500, 'Melón': 3000, 'Uva': 1450} Añadir las siguientes frutas con sus respectivos precios: \n",
    "    ● Naranja = 1200 \n",
    "    ● Manzana = 1500 \n",
    "    ● Pera = 2300"
   ]
  },
  {
   "cell_type": "code",
   "execution_count": null,
   "id": "c9c4ffb2",
   "metadata": {},
   "outputs": [],
   "source": [
    "precios_frutas = {'Banana': 1200, 'Ananá': 2500, 'Melón': 3000, 'Uva': 1450}\n",
    "precios_frutas['Naranja'] = 1200\n",
    "precios_frutas['Manzana'] = 1500\n",
    "precios_frutas['Pera'] = 2300\n",
    "\n",
    "print(precios_frutas)"
   ]
  },
  {
   "cell_type": "markdown",
   "id": "3b51449f",
   "metadata": {},
   "source": [
    "2) Siguiendo con el diccionario precios_frutas que resulta luego de ejecutar el código desarrollado en el punto anterior, actualizar los precios de las siguientes frutas: \n",
    "    ● Banana = 1330 \n",
    "    ● Manzana = 1700 \n",
    "    ● Melón = 2800"
   ]
  },
  {
   "cell_type": "code",
   "execution_count": 4,
   "id": "7e50af61",
   "metadata": {},
   "outputs": [
    {
     "name": "stdout",
     "output_type": "stream",
     "text": [
      "{'Banana': 1330, 'Ananá': 2500, 'Melón': 2800, 'Uva': 1450, 'Naranja': 1200, 'Manzana': 1700, 'Pera': 2300}\n"
     ]
    }
   ],
   "source": [
    "precios_frutas['Banana'] = 1330\n",
    "precios_frutas['Manzana'] = 1700\n",
    "precios_frutas['Melón'] = 2800\n",
    "\n",
    "print(precios_frutas)"
   ]
  },
  {
   "cell_type": "markdown",
   "id": "91025d11",
   "metadata": {},
   "source": [
    "3) Siguiendo con el diccionario precios_frutas que resulta luego de ejecutar el código desarrollado en el punto anterior, crear una lista que contenga únicamente las frutas sin los precios."
   ]
  },
  {
   "cell_type": "code",
   "execution_count": 3,
   "id": "2a01f0f2",
   "metadata": {},
   "outputs": [
    {
     "name": "stdout",
     "output_type": "stream",
     "text": [
      "['Banana', 'Ananá', 'Melón', 'Uva', 'Naranja', 'Manzana', 'Pera']\n"
     ]
    }
   ],
   "source": [
    "frutas = list(precios_frutas.keys())\n",
    "print(frutas)"
   ]
  },
  {
   "cell_type": "markdown",
   "id": "dbcda321",
   "metadata": {},
   "source": [
    "4) Crear una clase llamada Persona que contenga un método __init__ con los atributos nombre, pais y edad y el método saludar. El método saludar debe imprimir por pantalla un mensaje de salud que siga la estructura \"¡Hola! Soy [nombre], vivo en [pais] y tengo [edad] años.\""
   ]
  },
  {
   "cell_type": "code",
   "execution_count": null,
   "id": "47f8c8d5",
   "metadata": {},
   "outputs": [],
   "source": [
    "class Persona:\n",
    "    def __init__(self, nombre, pais, edad):\n",
    "        self.nombre = nombre\n",
    "        self.pais = pais\n",
    "        self.edad = edad\n",
    "\n",
    "    def saludar(self):\n",
    "        print(f\"¡Hola! Soy {self.nombre}, vivo en {self.pais} y tengo {self.edad} años.\")"
   ]
  },
  {
   "cell_type": "markdown",
   "id": "04898e44",
   "metadata": {},
   "source": [
    "5) Crear una clase llamada Circulo que contenga el atributo radio y los métodos calcular_area y calcular_perimetro. Dichos métodos deben calcular el parámetro correspondiente."
   ]
  },
  {
   "cell_type": "code",
   "execution_count": null,
   "id": "b5eb226b",
   "metadata": {},
   "outputs": [],
   "source": [
    "class Circulo:\n",
    "    def __init__(self, radio):\n",
    "        self.radio = radio\n",
    "\n",
    "    def calcular_area(self):\n",
    "        return 3.14 * (self.radio ** 2)\n",
    "\n",
    "    def calcular_perimetro(self):\n",
    "        return 2 * 3.14 * self.radio\n"
   ]
  },
  {
   "cell_type": "markdown",
   "id": "ad49e846",
   "metadata": {},
   "source": [
    "6) Dado un string con paréntesis \"()\", \"{}\", \"[]\", verifica si están correctamente balanceados usando una pila."
   ]
  },
  {
   "cell_type": "code",
   "execution_count": null,
   "id": "730698f0",
   "metadata": {},
   "outputs": [],
   "source": [
    "def verificar_balanceo(texto):\n",
    "    pila = []\n",
    "    pares = {')': '(', '}': '{', ']': '['}\n",
    "\n",
    "    if len(texto) % 2 == 1 or texto == \"\":\n",
    "        return False\n",
    "    \n",
    "    for c in texto:\n",
    "        if c in pares.values():\n",
    "            pila.append(c)\n",
    "        elif c in pares.keys():\n",
    "            if not pila or pila[-1] != pares[c]:\n",
    "                return False\n",
    "            pila.pop()\n",
    "\n",
    "    return not pila\n",
    "\n",
    "# Ejemplo de uso\n",
    "texto = input(\"Ingrese una cadena de texto: \")\n",
    "print(verificar_balanceo(texto))  "
   ]
  },
  {
   "cell_type": "markdown",
   "id": "8f6cf467",
   "metadata": {},
   "source": [
    "7) Usa una cola para simular un sistema de turnos en un banco. La cola debe permitir: \n",
    "    ● Agregar clientes (encolar). \n",
    "    ● Atender clientes (desencolar). \n",
    "    ● Mostrar el siguiente cliente en la fila."
   ]
  },
  {
   "cell_type": "code",
   "execution_count": null,
   "id": "4cc77387",
   "metadata": {},
   "outputs": [],
   "source": [
    "from collections import deque\n",
    "\n",
    "class ColaBanco:\n",
    "    def __init__(self):\n",
    "        self.cola = deque()\n",
    "\n",
    "    def encolar(self, cliente):\n",
    "        self.cola.append(cliente)\n",
    "\n",
    "    def desencolar(self):\n",
    "         return self.cola.popleft() if not self.esta_vacia() else \"La cola está vacía\"\n",
    "\n",
    "    def esta_vacia(self):\n",
    "        return len(self.elementos) == 0 \n",
    "    \n",
    "    def siguiente_cliente(self):\n",
    "        return self.cola[0] if not self.esta_vacia() else \"La cola está vacía\"\n",
    "\n"
   ]
  },
  {
   "cell_type": "markdown",
   "id": "5e042b41",
   "metadata": {},
   "source": [
    "8) Crea una lista enlazada que permita insertar nodos al inicio y recorrer la lista para mostrar los valores almacenados."
   ]
  },
  {
   "cell_type": "code",
   "execution_count": null,
   "id": "903b86fc",
   "metadata": {},
   "outputs": [],
   "source": [
    "class Nodo:\n",
    "    def __init__(self, dato):\n",
    "        self.dato = dato\n",
    "        self.siguiente = None\n",
    "\n",
    "class ListaEnlazada:\n",
    "    def __init__(self):\n",
    "        self.cabeza = None\n",
    "\n",
    "    def insertar(self, dato):\n",
    "        nuevo_nodo = Nodo(dato)\n",
    "        nuevo_nodo.siguiente = self.cabeza\n",
    "        self.cabeza = nuevo_nodo\n",
    "\n",
    "    def mostrar(self):\n",
    "        actual = self.cabeza\n",
    "        while actual:\n",
    "            print(actual.dato, end=\" -> \")\n",
    "            actual = actual.siguiente\n",
    "        print(\"None\")"
   ]
  },
  {
   "cell_type": "markdown",
   "id": "cd39f553",
   "metadata": {},
   "source": [
    "9) Dada una lista enlazada, implementa una función para invertirla."
   ]
  },
  {
   "cell_type": "code",
   "execution_count": null,
   "id": "682c6727",
   "metadata": {},
   "outputs": [
    {
     "name": "stdout",
     "output_type": "stream",
     "text": [
      "Lista original:\n",
      "Pera -> Manzana -> Naranja -> Uva -> Melón -> Ananá -> Banana -> None\n",
      "Lista invertida:\n",
      "Banana -> Ananá -> Melón -> Uva -> Naranja -> Manzana -> Pera -> None\n"
     ]
    }
   ],
   "source": [
    "def invertir_lista_enlazada(lista):\n",
    "    anterior = None\n",
    "    actual = lista.cabeza\n",
    "\n",
    "    while actual:\n",
    "        siguiente = actual.siguiente\n",
    "        actual.siguiente = anterior\n",
    "        anterior = actual\n",
    "        actual = siguiente\n",
    "\n",
    "    lista.cabeza = anterior\n"
   ]
  }
 ],
 "metadata": {
  "kernelspec": {
   "display_name": "Python 3",
   "language": "python",
   "name": "python3"
  },
  "language_info": {
   "codemirror_mode": {
    "name": "ipython",
    "version": 3
   },
   "file_extension": ".py",
   "mimetype": "text/x-python",
   "name": "python",
   "nbconvert_exporter": "python",
   "pygments_lexer": "ipython3",
   "version": "3.11.9"
  }
 },
 "nbformat": 4,
 "nbformat_minor": 5
}

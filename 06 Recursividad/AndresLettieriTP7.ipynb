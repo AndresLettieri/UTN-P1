{
 "cells": [
  {
   "cell_type": "markdown",
   "id": "96196a50",
   "metadata": {},
   "source": [
    "1) Crea una función recursiva que calcule el factorial de un número. Luego, utiliza esa función para calcular y mostrar en pantalla el factorial de todos los números enteros entre 1 y el número que indique el usuario"
   ]
  },
  {
   "cell_type": "code",
   "execution_count": null,
   "id": "7b6ad82b",
   "metadata": {},
   "outputs": [],
   "source": [
    "def facto(num):\n",
    "    return 1 if num == 0 else num * facto(num - 1)\n",
    "\n",
    "def main():\n",
    "    num = int(input(\"Ingrese un numero: \"))\n",
    "    result = facto(num)\n",
    "    print(f\"El factorial de {num} es {result}\")\n",
    "\n",
    "main()"
   ]
  },
  {
   "cell_type": "markdown",
   "id": "d386fbae",
   "metadata": {},
   "source": [
    "2) Crea una función recursiva que calcule el valor de la serie de Fibonacci en la posición indicada. Posteriormente, muestra la serie completa hasta la posición que el usuario especifique."
   ]
  },
  {
   "cell_type": "code",
   "execution_count": null,
   "id": "31647f48",
   "metadata": {},
   "outputs": [],
   "source": [
    "def fibonacci(n):\n",
    "    if n <= 0:\n",
    "        return 0\n",
    "    elif n == 1:\n",
    "        return 1\n",
    "    else:\n",
    "        return fibonacci(n - 1) + fibonacci(n - 2)\n",
    "    \n",
    "def main():\n",
    "    n = int(input(\"Ingrese un numero: \"))\n",
    "    result = fibonacci(n)\n",
    "    print(f\"El {n} número de Fibonacci es {result}\")\n",
    "\n",
    "main()"
   ]
  },
  {
   "cell_type": "markdown",
   "id": "fb33af5a",
   "metadata": {},
   "source": [
    "3) Crea una función recursiva que calcule la potencia de un número base elevado a un exponente, utilizando la fórmula 𝑛𝑚= 𝑛∗𝑚(𝑚−1). Prueba esta función en un algoritmo general."
   ]
  },
  {
   "cell_type": "code",
   "execution_count": null,
   "id": "78cda2df",
   "metadata": {},
   "outputs": [],
   "source": [
    "def potencia(n, m):\n",
    "    return 1 if m == 0 else n * potencia(n, m - 1)\n",
    "\n",
    "def main():\n",
    "    n = int(input(\"Ingrese la base: \"))\n",
    "    m = int(input(\"Ingrese el exponente: \"))\n",
    "    result = potencia(n, m)\n",
    "    print(f\"{n} elevado a {m} es {result}\")\n",
    "main()"
   ]
  },
  {
   "cell_type": "markdown",
   "id": "f3be5fa9",
   "metadata": {},
   "source": [
    "4) Crear una función recursiva en Python que reciba un número entero positivo en base decimal y devuelva su representación en binario como una cadena de texto.\n",
    "\n",
    "Cuando representamos un número en binario, lo expresamos usando solamente ceros (0) y unos (1), en base 2. Para convertir un número decimal a binario, se puede seguir este procedimiento:\n",
    "\n",
    "1. Dividir el número por 2.\n",
    "2. Guardar el resto (0 o 1).\n",
    "3. Repetir el proceso con el cociente hasta que llegue a 0.\n",
    "4. Los restos obtenidos, leídos de abajo hacia arriba, forman el número binario.\n",
    "\n",
    "Convertir el número 10 a binario:\n",
    "10 ÷ 2 = 5 resto: 0\n",
    "5 ÷ 2 = 2 resto: 1\n",
    "2 ÷ 2 = 1 resto: 0\n",
    "1 ÷ 2 = 0 resto: 1\n",
    "Leyendo los restos de abajo hacia arriba: 1 0 1 0 → El resultado binario es \"1010\"."
   ]
  },
  {
   "cell_type": "code",
   "execution_count": null,
   "id": "4f533eea",
   "metadata": {},
   "outputs": [],
   "source": [
    "def aBinario(n):\n",
    "    if n == 1:\n",
    "        return \"1\"\n",
    "    elif n == 0:\n",
    "        return \"0\"\n",
    "    else:\n",
    "        return str(aBinario(n//2)) + str(n%2)  \n",
    "\n",
    "def main():\n",
    "    n = int(input(\"Ingrese un numero positivo: \"))\n",
    "    while n < 0:\n",
    "        print(\"El número debe ser positivo.\")\n",
    "        n = int(input(\"Ingrese un numero positivo: \"))  \n",
    "\n",
    "    result = aBinario(n)\n",
    "    print(f\"El número {n} en binario es {result}\")\n",
    "\n",
    "main()\n",
    "        "
   ]
  },
  {
   "cell_type": "markdown",
   "id": "9124ae4e",
   "metadata": {},
   "source": [
    "5) Implementá una función recursiva llamada es_palindromo(palabra) que reciba una cadena de texto sin espacios ni tildes, y devuelva True si es un palíndromo o False si no lo es.\n",
    "Requisitos:\n",
    "La solución debe ser recursiva.\n",
    "No se debe usar [::-1] ni la función reversed()."
   ]
  },
  {
   "cell_type": "code",
   "execution_count": null,
   "id": "270b6a75",
   "metadata": {},
   "outputs": [],
   "source": [
    "def es_palindromo(palabra):\n",
    "    if len(palabra) <= 1:\n",
    "        return True\n",
    "    if palabra[0] != palabra[-1]:\n",
    "        return False\n",
    "    return es_palindromo(palabra[1:-1])\n",
    "\n",
    "def main():\n",
    "    palabra = input(\"Ingrese una palabra: \")\n",
    "    if es_palindromo(palabra):\n",
    "        print(f\"{palabra} es un palíndromo.\")\n",
    "    else:\n",
    "        print(f\"{palabra} no es un palíndromo.\")\n",
    "\n",
    "main()"
   ]
  },
  {
   "cell_type": "markdown",
   "id": "51b3f916",
   "metadata": {},
   "source": [
    "6) Escribí una función recursiva en Python llamada suma_digitos(n) que reciba un número entero positivo y devuelva la suma de todos sus dígitos.\n",
    "Restricciones:\n",
    "No se puede convertir el número a string.\n",
    "Usá operaciones matemáticas (%, //) y recursión.\n",
    "Ejemplos:\n",
    "suma_digitos(1234) → 10 (1 + 2 + 3 + 4)\n",
    "suma_digitos(9) → 9\n",
    "suma_digitos(305) → 8 (3 + 0 + 5)"
   ]
  },
  {
   "cell_type": "code",
   "execution_count": null,
   "id": "5affb591",
   "metadata": {},
   "outputs": [],
   "source": [
    "def suma_digitos(n):\n",
    "    if n == 0:\n",
    "        return 0\n",
    "    else:\n",
    "        return n % 10 + suma_digitos(n // 10)\n",
    "\n",
    "def main():\n",
    "    n = int(input(\"Ingrese un número: \"))\n",
    "    result = suma_digitos(n)\n",
    "    print(f\"La suma de los dígitos de {n} es {result}\")\n",
    "\n",
    "main()"
   ]
  },
  {
   "cell_type": "markdown",
   "id": "522d6076",
   "metadata": {},
   "source": [
    "7) Un niño está construyendo una pirámide con bloques. En el nivel más bajo coloca n bloques, en el siguiente nivel uno menos (n - 1), y así sucesivamente hasta llegar al último nivel con un solo bloque.\n",
    "Escribí una función recursiva contar_bloques(n) que reciba el número de bloques en el nivel más bajo y devuelva el total de bloques que necesita para construir toda la pirámide.\n",
    "Ejemplos:\n",
    "contar_bloques(1) → 1 (1)\n",
    "contar_bloques(2) → 3 (2 + 1)\n",
    "contar_bloques(4) → 10 (4 + 3 + 2 + 1)"
   ]
  },
  {
   "cell_type": "code",
   "execution_count": null,
   "id": "89301fe2",
   "metadata": {},
   "outputs": [],
   "source": [
    "def contar_bloques(n):\n",
    "    if n == 1:\n",
    "        return 1\n",
    "    else:\n",
    "        return n + contar_bloques(n - 1)\n",
    "    \n",
    "def main():\n",
    "    n = int(input(\"Ingrese un número: \"))\n",
    "    result = contar_bloques(n)\n",
    "    print(f\"El número de bloques en {n} es {result}\")\n",
    "\n",
    "main()"
   ]
  },
  {
   "cell_type": "markdown",
   "id": "8438a57a",
   "metadata": {},
   "source": [
    "8) Escribí una función recursiva llamada contar_digito(numero, digito) que reciba un número entero positivo (numero) y un dígito (entre 0 y 9), y devuelva cuántas veces aparece ese dígito dentro del número.\n",
    "Ejemplos:\n",
    "contar_digito(12233421, 2) → 3\n",
    "contar_digito(5555, 5) → 4\n",
    "contar_digito(123456, 7) → 0"
   ]
  },
  {
   "cell_type": "code",
   "execution_count": null,
   "id": "981a546f",
   "metadata": {},
   "outputs": [],
   "source": [
    "def contar_digito(numero, digito):\n",
    "    if numero == 0:\n",
    "        return 0\n",
    "    else:\n",
    "        ultimo = numero % 10\n",
    "        if ultimo == digito:\n",
    "            return 1 + contar_digito(numero // 10, digito)\n",
    "        else:\n",
    "            return contar_digito(numero // 10, digito)\n",
    "\n",
    "def main():\n",
    "    numero = int(input(\"Ingrese un número: \"))\n",
    "    digito = int(input(\"Ingrese el dígito a encontrar: \"))\n",
    "    result = contar_digito(numero, digito)\n",
    "    print(f\"El dígito {digito} aparece {result} veces en el número {numero}\")\n",
    "\n",
    "main()"
   ]
  }
 ],
 "metadata": {
  "kernelspec": {
   "display_name": "Python 3",
   "language": "python",
   "name": "python3"
  },
  "language_info": {
   "codemirror_mode": {
    "name": "ipython",
    "version": 3
   },
   "file_extension": ".py",
   "mimetype": "text/x-python",
   "name": "python",
   "nbconvert_exporter": "python",
   "pygments_lexer": "ipython3",
   "version": "3.11.9"
  }
 },
 "nbformat": 4,
 "nbformat_minor": 5
}
